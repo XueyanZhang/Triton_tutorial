{
  "cells": [
    {
      "cell_type": "markdown",
      "metadata": {
        "id": "view-in-github",
        "colab_type": "text"
      },
      "source": [
        "<a href=\"https://colab.research.google.com/github/XueyanZhang/Triton_tutorial/blob/master/01_vector_add.ipynb\" target=\"_parent\"><img src=\"https://colab.research.google.com/assets/colab-badge.svg\" alt=\"Open In Colab\"/></a>"
      ]
    },
    {
      "cell_type": "code",
      "execution_count": 1,
      "metadata": {
        "id": "bbivbulz1IH1"
      },
      "outputs": [],
      "source": [
        "%matplotlib inline"
      ]
    },
    {
      "cell_type": "markdown",
      "metadata": {
        "id": "WkSTQNUs1IH1"
      },
      "source": [
        "\n",
        "# Vector Addition\n",
        "\n",
        "In this tutorial, you will write a simple vector addition using Triton.\n",
        "\n",
        "In doing so, you will learn about:\n",
        "\n",
        "* The basic programming model of Triton.\n",
        "\n",
        "* The `triton.jit` decorator, which is used to define Triton kernels.\n",
        "\n",
        "* The best practices for validating and benchmarking your custom ops against native reference implementations.\n"
      ]
    },
    {
      "cell_type": "markdown",
      "metadata": {
        "id": "IQ3mk3WP1IH2"
      },
      "source": [
        "## Compute Kernel\n",
        "\n"
      ]
    },
    {
      "cell_type": "code",
      "execution_count": 2,
      "metadata": {
        "id": "2LwjdwZ81IH2"
      },
      "outputs": [],
      "source": [
        "import torch\n",
        "\n",
        "import triton\n",
        "import triton.language as tl\n",
        "\n",
        "\n",
        "@triton.jit\n",
        "def add_kernel(\n",
        "    x_ptr,  # *Pointer* to first input vector.\n",
        "    y_ptr,  # *Pointer* to second input vector.\n",
        "    output_ptr,  # *Pointer* to output vector.\n",
        "    n_elements,  # Size of the vector.\n",
        "    BLOCK_SIZE: tl.constexpr,  # Number of elements each program should process.\n",
        "                 # NOTE: `constexpr` so it can be used as a shape value.\n",
        "):\n",
        "    # There are multiple 'programs' processing different data. We identify which program\n",
        "    # we are here:\n",
        "    pid = tl.program_id(axis=0)  # We use a 1D launch grid so axis is 0.\n",
        "    # This program will process inputs that are offset from the initial data.\n",
        "    # For instance, if you had a vector of length 256 and block_size of 64, the programs\n",
        "    # would each access the elements [0:64, 64:128, 128:192, 192:256].\n",
        "    # Note that offsets is a list of pointers:\n",
        "    block_start = pid * BLOCK_SIZE\n",
        "    offsets = block_start + tl.arange(0, BLOCK_SIZE)\n",
        "    # Create a mask to guard memory operations against out-of-bounds accesses.\n",
        "    mask = offsets < n_elements\n",
        "    # Load x and y from DRAM, masking out any extra elements in case the input is not a\n",
        "    # multiple of the block size.\n",
        "    x = tl.load(x_ptr + offsets, mask=mask)\n",
        "    y = tl.load(y_ptr + offsets, mask=mask)\n",
        "    output = x + y\n",
        "    # Write x + y back to DRAM.\n",
        "    tl.store(output_ptr + offsets, output, mask=mask)"
      ]
    },
    {
      "cell_type": "markdown",
      "metadata": {
        "id": "0WxooSgJ1IH3"
      },
      "source": [
        "Let's also declare a helper function to (1) allocate the `z` tensor\n",
        "and (2) enqueue the above kernel with appropriate grid/block sizes:\n",
        "\n"
      ]
    },
    {
      "cell_type": "code",
      "execution_count": 3,
      "metadata": {
        "id": "pIgX7HAv1IH3"
      },
      "outputs": [],
      "source": [
        "def add(x: torch.Tensor, y: torch.Tensor):\n",
        "    # We need to preallocate the output.\n",
        "    output = torch.empty_like(x)\n",
        "    assert x.is_cuda and y.is_cuda and output.is_cuda\n",
        "    n_elements = output.numel()\n",
        "    # The SPMD launch grid denotes the number of kernel instances that run in parallel.\n",
        "    # It is analogous to CUDA launch grids. It can be either Tuple[int], or Callable(metaparameters) -> Tuple[int].\n",
        "    # In this case, we use a 1D grid where the size is the number of blocks:\n",
        "    grid = lambda meta: (triton.cdiv(n_elements, meta['BLOCK_SIZE']),)\n",
        "    # NOTE:\n",
        "    #  - Each torch.tensor object is implicitly converted into a pointer to its first element.\n",
        "    #  - `triton.jit`'ed functions can be indexed with a launch grid to obtain a callable GPU kernel.\n",
        "    #  - Don't forget to pass meta-parameters as keywords arguments.\n",
        "    add_kernel[grid](x, y, output, n_elements, BLOCK_SIZE=1024)\n",
        "    # We return a handle to z but, since `torch.cuda.synchronize()` hasn't been called, the kernel is still\n",
        "    # running asynchronously at this point.\n",
        "    return output"
      ]
    },
    {
      "cell_type": "markdown",
      "metadata": {
        "id": "iZwHZuTA1IH3"
      },
      "source": [
        "We can now use the above function to compute the element-wise sum of two `torch.tensor` objects and test its correctness:\n",
        "\n"
      ]
    },
    {
      "cell_type": "code",
      "execution_count": 4,
      "metadata": {
        "colab": {
          "base_uri": "https://localhost:8080/"
        },
        "id": "uDAK4wmR1IH3",
        "outputId": "25a5e425-dbec-4915-da0e-a627d3224a9f"
      },
      "outputs": [
        {
          "output_type": "stream",
          "name": "stdout",
          "text": [
            "tensor([1.3713, 1.3076, 0.4940,  ..., 0.4024, 1.7918, 1.0686], device='cuda:0')\n",
            "tensor([1.3713, 1.3076, 0.4940,  ..., 0.4024, 1.7918, 1.0686], device='cuda:0')\n",
            "The maximum difference between torch and triton is 0.0\n"
          ]
        }
      ],
      "source": [
        "torch.manual_seed(0)\n",
        "size = 98432\n",
        "x = torch.rand(size, device='cuda')\n",
        "y = torch.rand(size, device='cuda')\n",
        "output_torch = x + y\n",
        "output_triton = add(x, y)\n",
        "print(output_torch)\n",
        "print(output_triton)\n",
        "print(\n",
        "    f'The maximum difference between torch and triton is '\n",
        "    f'{torch.max(torch.abs(output_torch - output_triton))}'\n",
        ")"
      ]
    },
    {
      "cell_type": "markdown",
      "metadata": {
        "id": "W5Vt_Rmy1IH3"
      },
      "source": [
        "Seems like we're good to go!\n",
        "\n"
      ]
    },
    {
      "cell_type": "markdown",
      "metadata": {
        "id": "cOQAsMYr1IH3"
      },
      "source": [
        "## Benchmark\n",
        "\n",
        "We can now benchmark our custom op on vectors of increasing sizes to get a sense of how it does relative to PyTorch.\n",
        "To make things easier, Triton has a set of built-in utilities that allow us to concisely plot the performance of our custom ops.\n",
        "for different problem sizes.\n",
        "\n"
      ]
    },
    {
      "cell_type": "code",
      "execution_count": 7,
      "metadata": {
        "id": "lZrD0qky1IH3"
      },
      "outputs": [],
      "source": [
        "@triton.testing.perf_report(\n",
        "    triton.testing.Benchmark(\n",
        "        x_names=['size'],  # Argument names to use as an x-axis for the plot.\n",
        "        x_vals=[\n",
        "            2 ** i for i in range(12, 28, 1)\n",
        "        ],  # Different possible values for `x_name`.\n",
        "        x_log=True,  # x axis is logarithmic.\n",
        "        line_arg='provider',  # Argument name whose value corresponds to a different line in the plot.\n",
        "        line_vals=['triton', 'torch'],  # Possible values for `line_arg`.\n",
        "        line_names=['Triton', 'Torch'],  # Label name for the lines.\n",
        "        styles=[('blue', '-'), ('green', '-')],  # Line styles.\n",
        "        ylabel='GB/s',  # Label name for the y-axis.\n",
        "        plot_name='vector-add-performance',  # Name for the plot. Used also as a file name for saving the plot.\n",
        "        args={},  # Values for function arguments not in `x_names` and `y_name`.\n",
        "    )\n",
        ")\n",
        "def benchmark(size, provider):\n",
        "    x = torch.rand(size, device='cuda', dtype=torch.float32)\n",
        "    y = torch.rand(size, device='cuda', dtype=torch.float32)\n",
        "    quantiles = [0.5, 0.2, 0.8]\n",
        "    if provider == 'torch':\n",
        "        ms, min_ms, max_ms = triton.testing.do_bench(lambda: x + y)\n",
        "    if provider == 'triton':\n",
        "        ms, min_ms, max_ms = triton.testing.do_bench(lambda: add(x, y))\n",
        "    gbps = lambda ms: 12 * size / ms * 1e-6\n",
        "    return gbps(ms), gbps(max_ms), gbps(min_ms)"
      ]
    },
    {
      "cell_type": "markdown",
      "metadata": {
        "id": "Mv2ZXExW1IH4"
      },
      "source": [
        "We can now run the decorated function above. Pass `print_data=True` to see the performance number, `show_plots=True` to plot them, and/or\n",
        "`save_path='/path/to/results/' to save them to disk along with raw CSV data:\n",
        "\n"
      ]
    },
    {
      "cell_type": "code",
      "execution_count": 8,
      "metadata": {
        "colab": {
          "base_uri": "https://localhost:8080/",
          "height": 766
        },
        "id": "DdkyyU_B1IH4",
        "outputId": "6512f30b-1794-49e5-d603-7ed7fe369ecb"
      },
      "outputs": [
        {
          "output_type": "display_data",
          "data": {
            "text/plain": [
              "<Figure size 640x480 with 1 Axes>"
            ],
            "image/png": "[encoded data removed]"
          },
          "metadata": {}
        },
        {
          "output_type": "stream",
          "name": "stdout",
          "text": [
            "vector-add-performance:\n",
            "           size      Triton       Torch\n",
            "0        4096.0   12.000000   12.000000\n",
            "1        8192.0   23.450383   23.272727\n",
            "2       16384.0   41.795919   41.234899\n",
            "3       32768.0   64.335079   63.999998\n",
            "4       65536.0  102.828452  104.135590\n",
            "5      131072.0  153.600004  153.600004\n",
            "6      262144.0  188.683298  182.044451\n",
            "7      524288.0  205.442004  197.001998\n",
            "8     1048576.0  220.783822  220.412561\n",
            "9     2097152.0  229.347329  231.849058\n",
            "10    4194304.0  234.057145  238.529575\n",
            "11    8388608.0  236.859275  240.931952\n",
            "12   16777216.0  239.100678  243.921054\n",
            "13   33554432.0  240.237354  243.359680\n",
            "14   67108864.0  240.793635  244.407875\n",
            "15  134217728.0  241.015022  245.987005\n"
          ]
        }
      ],
      "source": [
        "benchmark.run(print_data=True, show_plots=True)"
      ]
    }
  ],
  "metadata": {
    "kernelspec": {
      "display_name": "Python 3",
      "name": "python3"
    },
    "language_info": {
      "codemirror_mode": {
        "name": "ipython",
        "version": 3
      },
      "file_extension": ".py",
      "mimetype": "text/x-python",
      "name": "python",
      "nbconvert_exporter": "python",
      "pygments_lexer": "ipython3",
      "version": "3.8.10"
    },
    "colab": {
      "provenance": [],
      "gpuType": "T4",
      "include_colab_link": true
    },
    "accelerator": "GPU"
  },
  "nbformat": 4,
  "nbformat_minor": 0
}